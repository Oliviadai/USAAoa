{
 "cells": [
  {
   "cell_type": "code",
   "execution_count": 33,
   "metadata": {},
   "outputs": [],
   "source": [
    "%matplotlib inline\n",
    "import pandas as pd\n",
    "import numpy as np\n",
    "import matplotlib.pyplot as plt\n",
    "plt.rcParams['figure.figsize'] = (12,10)"
   ]
  },
  {
   "cell_type": "code",
   "execution_count": 34,
   "metadata": {},
   "outputs": [],
   "source": [
    "path1 = '~/Downloads/Data_Challenge/raw_data/MSA1.csv'\n",
    "path2 = '~/Downloads/Data_Challenge/raw_data/MSA2.csv'"
   ]
  },
  {
   "cell_type": "code",
   "execution_count": 35,
   "metadata": {},
   "outputs": [],
   "source": [
    "MSA1 = pd.read_csv(path1,\n",
    "                    header = 4,index_col = 'MarketCode')\n",
    "MSA2 = pd.read_csv(path2,\n",
    "                    header = 4,index_col = 'MarketCode')"
   ]
  },
  {
   "cell_type": "code",
   "execution_count": 36,
   "metadata": {},
   "outputs": [
    {
     "data": {
      "text/plain": [
       "84"
      ]
     },
     "execution_count": 36,
     "metadata": {},
     "output_type": "execute_result"
    }
   ],
   "source": [
    "filtered1 = MSA1[MSA1[\"Apr-08\"] != 'S']\n",
    "filtered_MSA1 = filtered1[filtered1[\"Apr-08\"] != 'R']\n",
    "filtered_MSA1.shape[0]"
   ]
  },
  {
   "cell_type": "code",
   "execution_count": 37,
   "metadata": {},
   "outputs": [
    {
     "data": {
      "text/plain": [
       "387"
      ]
     },
     "execution_count": 37,
     "metadata": {},
     "output_type": "execute_result"
    }
   ],
   "source": [
    "filtered2 = MSA2[MSA2[\"Apr-08\"] != 'S']\n",
    "filtered_MSA2 = filtered2[filtered2[\"Apr-08\"] != 'R']\n",
    "filtered_MSA2.shape[0]"
   ]
  },
  {
   "cell_type": "code",
   "execution_count": 38,
   "metadata": {},
   "outputs": [
    {
     "name": "stdout",
     "output_type": "stream",
     "text": [
      "The properties are delivered since April 2008 of the first market is 84. The properties are delivered since April 2008 of the second market is 387.\n"
     ]
    }
   ],
   "source": [
    "answer1 = \"The properties are delivered since April 2008 of the first market is 84. The properties are delivered since April 2008 of the second market is 387.\"\n",
    "print(answer1)"
   ]
  },
  {
   "cell_type": "code",
   "execution_count": 39,
   "metadata": {},
   "outputs": [
    {
     "data": {
      "text/html": [
       "<div>\n",
       "<style scoped>\n",
       "    .dataframe tbody tr th:only-of-type {\n",
       "        vertical-align: middle;\n",
       "    }\n",
       "\n",
       "    .dataframe tbody tr th {\n",
       "        vertical-align: top;\n",
       "    }\n",
       "\n",
       "    .dataframe thead th {\n",
       "        text-align: right;\n",
       "    }\n",
       "</style>\n",
       "<table border=\"1\" class=\"dataframe\">\n",
       "  <thead>\n",
       "    <tr style=\"text-align: right;\">\n",
       "      <th></th>\n",
       "      <th>Apr-08</th>\n",
       "      <th>May-08</th>\n",
       "      <th>Jun-08</th>\n",
       "      <th>Jul-08</th>\n",
       "      <th>Aug-08</th>\n",
       "      <th>Sep-08</th>\n",
       "      <th>Oct-08</th>\n",
       "      <th>Nov-08</th>\n",
       "      <th>Dec-08</th>\n",
       "      <th>Jan-09</th>\n",
       "      <th>...</th>\n",
       "      <th>Jan-18</th>\n",
       "      <th>Feb-18</th>\n",
       "      <th>Mar-18</th>\n",
       "      <th>Apr-18</th>\n",
       "      <th>May-18</th>\n",
       "      <th>Jun-18</th>\n",
       "      <th>Jul-18</th>\n",
       "      <th>Aug-18</th>\n",
       "      <th>Sep-18</th>\n",
       "      <th>Oct-18</th>\n",
       "    </tr>\n",
       "    <tr>\n",
       "      <th>MarketCode</th>\n",
       "      <th></th>\n",
       "      <th></th>\n",
       "      <th></th>\n",
       "      <th></th>\n",
       "      <th></th>\n",
       "      <th></th>\n",
       "      <th></th>\n",
       "      <th></th>\n",
       "      <th></th>\n",
       "      <th></th>\n",
       "      <th></th>\n",
       "      <th></th>\n",
       "      <th></th>\n",
       "      <th></th>\n",
       "      <th></th>\n",
       "      <th></th>\n",
       "      <th></th>\n",
       "      <th></th>\n",
       "      <th></th>\n",
       "      <th></th>\n",
       "      <th></th>\n",
       "    </tr>\n",
       "  </thead>\n",
       "  <tbody>\n",
       "    <tr>\n",
       "      <th>12420</th>\n",
       "      <td>NaN</td>\n",
       "      <td>NaN</td>\n",
       "      <td>NaN</td>\n",
       "      <td>NaN</td>\n",
       "      <td>NaN</td>\n",
       "      <td>NaN</td>\n",
       "      <td>NaN</td>\n",
       "      <td>NaN</td>\n",
       "      <td>NaN</td>\n",
       "      <td>NaN</td>\n",
       "      <td>...</td>\n",
       "      <td>S</td>\n",
       "      <td>S</td>\n",
       "      <td>S</td>\n",
       "      <td>S</td>\n",
       "      <td>S</td>\n",
       "      <td>S</td>\n",
       "      <td>S</td>\n",
       "      <td>S</td>\n",
       "      <td>S</td>\n",
       "      <td>S</td>\n",
       "    </tr>\n",
       "    <tr>\n",
       "      <th>12420</th>\n",
       "      <td>NaN</td>\n",
       "      <td>NaN</td>\n",
       "      <td>NaN</td>\n",
       "      <td>NaN</td>\n",
       "      <td>NaN</td>\n",
       "      <td>NaN</td>\n",
       "      <td>NaN</td>\n",
       "      <td>NaN</td>\n",
       "      <td>NaN</td>\n",
       "      <td>NaN</td>\n",
       "      <td>...</td>\n",
       "      <td>UC/LU</td>\n",
       "      <td>UC/LU</td>\n",
       "      <td>UC/LU</td>\n",
       "      <td>UC/LU</td>\n",
       "      <td>UC/LU</td>\n",
       "      <td>UC/LU</td>\n",
       "      <td>UC/LU</td>\n",
       "      <td>UC/LU</td>\n",
       "      <td>UC/LU</td>\n",
       "      <td>LU</td>\n",
       "    </tr>\n",
       "    <tr>\n",
       "      <th>12420</th>\n",
       "      <td>S</td>\n",
       "      <td>S</td>\n",
       "      <td>S</td>\n",
       "      <td>S</td>\n",
       "      <td>S</td>\n",
       "      <td>S</td>\n",
       "      <td>S</td>\n",
       "      <td>S</td>\n",
       "      <td>S</td>\n",
       "      <td>S</td>\n",
       "      <td>...</td>\n",
       "      <td>S</td>\n",
       "      <td>S</td>\n",
       "      <td>S</td>\n",
       "      <td>S</td>\n",
       "      <td>S</td>\n",
       "      <td>S</td>\n",
       "      <td>S</td>\n",
       "      <td>S</td>\n",
       "      <td>S</td>\n",
       "      <td>S</td>\n",
       "    </tr>\n",
       "    <tr>\n",
       "      <th>12420</th>\n",
       "      <td>NaN</td>\n",
       "      <td>NaN</td>\n",
       "      <td>NaN</td>\n",
       "      <td>NaN</td>\n",
       "      <td>NaN</td>\n",
       "      <td>NaN</td>\n",
       "      <td>NaN</td>\n",
       "      <td>NaN</td>\n",
       "      <td>NaN</td>\n",
       "      <td>NaN</td>\n",
       "      <td>...</td>\n",
       "      <td>S</td>\n",
       "      <td>S</td>\n",
       "      <td>S</td>\n",
       "      <td>S</td>\n",
       "      <td>S</td>\n",
       "      <td>S</td>\n",
       "      <td>S</td>\n",
       "      <td>S</td>\n",
       "      <td>S</td>\n",
       "      <td>S</td>\n",
       "    </tr>\n",
       "    <tr>\n",
       "      <th>12420</th>\n",
       "      <td>S</td>\n",
       "      <td>S</td>\n",
       "      <td>S</td>\n",
       "      <td>NaN</td>\n",
       "      <td>NaN</td>\n",
       "      <td>NaN</td>\n",
       "      <td>NaN</td>\n",
       "      <td>NaN</td>\n",
       "      <td>NaN</td>\n",
       "      <td>NaN</td>\n",
       "      <td>...</td>\n",
       "      <td>S</td>\n",
       "      <td>S</td>\n",
       "      <td>S</td>\n",
       "      <td>S</td>\n",
       "      <td>S</td>\n",
       "      <td>S</td>\n",
       "      <td>S</td>\n",
       "      <td>S</td>\n",
       "      <td>S</td>\n",
       "      <td>S</td>\n",
       "    </tr>\n",
       "  </tbody>\n",
       "</table>\n",
       "<p>5 rows × 127 columns</p>\n",
       "</div>"
      ],
      "text/plain": [
       "           Apr-08 May-08 Jun-08 Jul-08 Aug-08 Sep-08 Oct-08 Nov-08 Dec-08  \\\n",
       "MarketCode                                                                  \n",
       "12420         NaN    NaN    NaN    NaN    NaN    NaN    NaN    NaN    NaN   \n",
       "12420         NaN    NaN    NaN    NaN    NaN    NaN    NaN    NaN    NaN   \n",
       "12420           S      S      S      S      S      S      S      S      S   \n",
       "12420         NaN    NaN    NaN    NaN    NaN    NaN    NaN    NaN    NaN   \n",
       "12420           S      S      S    NaN    NaN    NaN    NaN    NaN    NaN   \n",
       "\n",
       "           Jan-09  ...   Jan-18 Feb-18 Mar-18 Apr-18 May-18 Jun-18 Jul-18  \\\n",
       "MarketCode         ...                                                      \n",
       "12420         NaN  ...        S      S      S      S      S      S      S   \n",
       "12420         NaN  ...    UC/LU  UC/LU  UC/LU  UC/LU  UC/LU  UC/LU  UC/LU   \n",
       "12420           S  ...        S      S      S      S      S      S      S   \n",
       "12420         NaN  ...        S      S      S      S      S      S      S   \n",
       "12420         NaN  ...        S      S      S      S      S      S      S   \n",
       "\n",
       "           Aug-18 Sep-18 Oct-18  \n",
       "MarketCode                       \n",
       "12420           S      S      S  \n",
       "12420       UC/LU  UC/LU     LU  \n",
       "12420           S      S      S  \n",
       "12420           S      S      S  \n",
       "12420           S      S      S  \n",
       "\n",
       "[5 rows x 127 columns]"
      ]
     },
     "execution_count": 39,
     "metadata": {},
     "output_type": "execute_result"
    }
   ],
   "source": [
    "df2 = MSA2.loc[:,'Apr-08':'Oct-18']\n",
    "df1 = MSA1.loc[:,'Apr-08':'Oct-18']\n",
    "df2.head()"
   ]
  },
  {
   "cell_type": "code",
   "execution_count": 40,
   "metadata": {
    "scrolled": true
   },
   "outputs": [],
   "source": [
    "numrow1 = df1.shape[0]\n",
    "numcol1 = df1.shape[1]\n",
    "total1 = 0\n",
    "for i in range(numrow1):\n",
    "    month = 0\n",
    "    for j in range(numcol1):\n",
    "        if df1.iloc[i][j] == 'S':\n",
    "            total1 += month\n",
    "            month = 0\n",
    "        else:\n",
    "            month = month + 1\n",
    "            \n",
    "aver1 = total1/numrow1"
   ]
  },
  {
   "cell_type": "code",
   "execution_count": 41,
   "metadata": {},
   "outputs": [],
   "source": [
    "numrow2 = df2.shape[0]\n",
    "numcol2 = df2.shape[1]\n",
    "total2 = 0\n",
    "for i in range(numrow2):\n",
    "    month = 0\n",
    "    for j in range(numcol2):\n",
    "        if df2.iloc[i][j] == 'S':\n",
    "            total2 += month\n",
    "            month = 0\n",
    "        else:\n",
    "            month = month + 1\n",
    "        \n",
    "aver2 = total2/numrow2"
   ]
  },
  {
   "cell_type": "code",
   "execution_count": 42,
   "metadata": {},
   "outputs": [
    {
     "data": {
      "text/plain": [
       "48.888888888888886"
      ]
     },
     "execution_count": 42,
     "metadata": {},
     "output_type": "execute_result"
    }
   ],
   "source": [
    "aver1"
   ]
  },
  {
   "cell_type": "code",
   "execution_count": 43,
   "metadata": {},
   "outputs": [
    {
     "data": {
      "text/plain": [
       "34.40909090909091"
      ]
     },
     "execution_count": 43,
     "metadata": {},
     "output_type": "execute_result"
    }
   ],
   "source": [
    "aver2"
   ]
  },
  {
   "cell_type": "code",
   "execution_count": 44,
   "metadata": {},
   "outputs": [
    {
     "name": "stdout",
     "output_type": "stream",
     "text": [
      "The average lease-up time for market1 is 6.15 months. The average lease-up time for market2 is 34.41 months.\n"
     ]
    }
   ],
   "source": [
    "answer2 = \"The average lease-up time for market1 is 48.89 months. The average lease-up time for market2 is 34.41 months.\"\n",
    "print(answer2)"
   ]
  },
  {
   "cell_type": "code",
   "execution_count": 45,
   "metadata": {},
   "outputs": [],
   "source": [
    "status2 = MSA2.loc[:,'Status']\n",
    "status1 = MSA1.loc[:,'Status']\n",
    "S1 = np.count_nonzero(status1 == 'S')\n",
    "S2 = np.count_nonzero(status2 == 'S')\n",
    "LU1 = np.count_nonzero(status1 == 'LU')\n",
    "LU2 = np.count_nonzero(status2 == 'LU')\n",
    "R1 = np.count_nonzero(status1 == 'R')\n",
    "R2 = np.count_nonzero(status2 == 'R')\n",
    "UCLU1 = np.count_nonzero(status1 == 'UC/LU')\n",
    "UCLU2 = np.count_nonzero(status2 == 'UC/LU')"
   ]
  },
  {
   "cell_type": "code",
   "execution_count": 46,
   "metadata": {},
   "outputs": [
    {
     "data": {
      "text/html": [
       "<div>\n",
       "<style scoped>\n",
       "    .dataframe tbody tr th:only-of-type {\n",
       "        vertical-align: middle;\n",
       "    }\n",
       "\n",
       "    .dataframe tbody tr th {\n",
       "        vertical-align: top;\n",
       "    }\n",
       "\n",
       "    .dataframe thead th {\n",
       "        text-align: right;\n",
       "    }\n",
       "</style>\n",
       "<table border=\"1\" class=\"dataframe\">\n",
       "  <thead>\n",
       "    <tr style=\"text-align: right;\">\n",
       "      <th></th>\n",
       "      <th>Market1</th>\n",
       "      <th>Market2</th>\n",
       "    </tr>\n",
       "  </thead>\n",
       "  <tbody>\n",
       "    <tr>\n",
       "      <th>S</th>\n",
       "      <td>102</td>\n",
       "      <td>746</td>\n",
       "    </tr>\n",
       "    <tr>\n",
       "      <th>LU</th>\n",
       "      <td>0</td>\n",
       "      <td>16</td>\n",
       "    </tr>\n",
       "    <tr>\n",
       "      <th>R</th>\n",
       "      <td>4</td>\n",
       "      <td>87</td>\n",
       "    </tr>\n",
       "    <tr>\n",
       "      <th>UCLU</th>\n",
       "      <td>2</td>\n",
       "      <td>9</td>\n",
       "    </tr>\n",
       "  </tbody>\n",
       "</table>\n",
       "</div>"
      ],
      "text/plain": [
       "      Market1  Market2\n",
       "S         102      746\n",
       "LU          0       16\n",
       "R           4       87\n",
       "UCLU        2        9"
      ]
     },
     "execution_count": 46,
     "metadata": {},
     "output_type": "execute_result"
    }
   ],
   "source": [
    "d = {'Market1': [S1, LU1, R1, UCLU1], 'Market2': [S2, LU2, R2, UCLU2]}\n",
    "dataf = pd.DataFrame(data=d)\n",
    "dataf.index = ['S', 'LU', 'R', 'UCLU']\n",
    "dataf"
   ]
  },
  {
   "cell_type": "code",
   "execution_count": 47,
   "metadata": {},
   "outputs": [
    {
     "data": {
      "text/plain": [
       "Text(0.5,1,'Comparison of Property Status for Market1 and Market2')"
      ]
     },
     "execution_count": 47,
     "metadata": {},
     "output_type": "execute_result"
    },
    {
     "data": {
      "image/png": "[encoded data removed]",
      "text/plain": [
       "<Figure size 864x720 with 1 Axes>"
      ]
     },
     "metadata": {},
     "output_type": "display_data"
    }
   ],
   "source": [
    "dataf.plot(kind='bar')\n",
    "plt.title(\"Comparison of Property Status for Market1 and Market2\")"
   ]
  },
  {
   "cell_type": "code",
   "execution_count": 48,
   "metadata": {},
   "outputs": [
    {
     "name": "stdout",
     "output_type": "stream",
     "text": [
      "After visualizing the property stutus of properties in market1 and market2 with pairwise barplot, I discover that the majority of properties in both markets are stablized. A significant number of properties in market2 is under rehabilitation. Nearly no properties of market1 is under lease up. Another discovery is that the total number of properties in market2 is significantly higher than that of market1.\n"
     ]
    }
   ],
   "source": [
    "answer3 = \"After visualizing the property stutus of properties in market1 and market2 with pairwise barplot, I discover that the majority of properties in both markets are stablized. A significant number of properties in market2 is under rehabilitation. Nearly no properties of market1 is under lease up. Another discovery is that the total number of properties in market2 is significantly higher than that of market1.\"\n",
    "print(answer3)"
   ]
  },
  {
   "cell_type": "code",
   "execution_count": null,
   "metadata": {},
   "outputs": [],
   "source": []
  },
  {
   "cell_type": "code",
   "execution_count": null,
   "metadata": {},
   "outputs": [],
   "source": []
  },
  {
   "cell_type": "code",
   "execution_count": null,
   "metadata": {},
   "outputs": [],
   "source": []
  }
 ],
 "metadata": {
  "kernelspec": {
   "display_name": "Python 3",
   "language": "python",
   "name": "python3"
  },
  "language_info": {
   "codemirror_mode": {
    "name": "ipython",
    "version": 3
   },
   "file_extension": ".py",
   "mimetype": "text/x-python",
   "name": "python",
   "nbconvert_exporter": "python",
   "pygments_lexer": "ipython3",
   "version": "3.6.5"
  }
 },
 "nbformat": 4,
 "nbformat_minor": 2
}
